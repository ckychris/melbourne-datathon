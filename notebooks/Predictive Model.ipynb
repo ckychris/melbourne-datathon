{
 "cells": [
  {
   "cell_type": "markdown",
   "metadata": {
    "run_control": {
     "frozen": false,
     "read_only": false
    }
   },
   "source": [
    "# Who is heading for Diabetes?\n",
    "\n",
    "This is the predictive part of the 2017 Melbourne Datathon.\n",
    "\n",
    "The task is to predict the probability that a patient will be dispensed a drug related to Diabetes post 2015. This is quite important research as it will be an early warning system for doctors so intervention can potentially be made before it is too late.\n",
    "\n",
    "Use the patients that we have provided all the records for to build your model, then see how it performs on these unseen people.\n",
    "\n",
    "For patient ID'S 279,201 to 558,352 you need to submit a file with 2 columns, the Patient_ID and the probability in the range [0-1]. The file will have 279,153 rows including the header row. An example submission file is provided for download."
   ]
  },
  {
   "cell_type": "code",
   "execution_count": 33,
   "metadata": {
    "ExecuteTime": {
     "end_time": "2017-04-26T13:04:10.059649Z",
     "start_time": "2017-04-26T13:04:10.041756Z"
    },
    "collapsed": true,
    "run_control": {
     "frozen": false,
     "read_only": false
    }
   },
   "outputs": [],
   "source": [
    "import tqdm\n",
    "\n",
    "import pandas as pd\n",
    "import numpy as np\n",
    "import pickle\n",
    "import sqlite3\n",
    "import xgboost\n",
    "\n",
    "from sklearn.model_selection import train_test_split, GridSearchCV\n",
    "from sklearn.metrics import classification_report\n",
    "from sklearn.svm import SVC\n",
    "from sklearn.preprocessing import normalize, StandardScaler\n",
    "\n",
    "from sklearn.tree import DecisionTreeClassifier\n",
    "from sklearn.ensemble import RandomForestClassifier, AdaBoostClassifier"
   ]
  },
  {
   "cell_type": "markdown",
   "metadata": {
    "run_control": {
     "frozen": false,
     "read_only": false
    }
   },
   "source": [
    "## Data retrieval functions"
   ]
  },
  {
   "cell_type": "code",
   "execution_count": 2,
   "metadata": {
    "ExecuteTime": {
     "end_time": "2017-04-26T01:44:02.805824Z",
     "start_time": "2017-04-26T01:44:02.802822Z"
    },
    "collapsed": true,
    "run_control": {
     "frozen": false,
     "read_only": false
    }
   },
   "outputs": [],
   "source": [
    "conn = sqlite3.connect(\"../data/datasets.db\")"
   ]
  },
  {
   "cell_type": "code",
   "execution_count": 65,
   "metadata": {
    "ExecuteTime": {
     "end_time": "2017-04-27T22:57:04.765392Z",
     "start_time": "2017-04-27T22:57:04.745756Z"
    },
    "run_control": {
     "frozen": false,
     "read_only": false
    }
   },
   "outputs": [],
   "source": [
    "def retrieve_patient_data(connection, patient_id):\n",
    "    \"\"\"\n",
    "    Return the patient data.\n",
    "    \"\"\"\n",
    "    SQL = \"\"\"\n",
    "SELECT *\n",
    "FROM transactions a\n",
    "LEFT OUTER JOIN ChronicIllness_LookUp b \n",
    "    ON a.Drug_ID = b.MasterProductID \n",
    "LEFT OUTER JOIN patients c\n",
    "    ON a.Patient_ID = c.Patient_ID\n",
    "LEFT OUTER JOIN classification d\n",
    "    ON a.Patient_ID = d.Patient_ID\n",
    "LEFT OUTER JOIN social e\n",
    "    ON c.postcode = e.postcode\n",
    "WHERE a.Patient_ID = {}\n",
    "AND a.prescription_week < '2016-01-01'\n",
    "ORDER BY prescription_week\n",
    "    \"\"\".format(patient_id)\n",
    "\n",
    "    return pd.read_sql_query(SQL, connection)\n",
    "\n",
    "\n",
    "def retrieve_chronic_illness(connection):\n",
    "    SQL = \"\"\"\n",
    "SELECT DISTINCT ChronicIllness FROM ChronicIllness_LookUp \n",
    "    \"\"\".format(patient_id)\n",
    "    return pd.read_sql_query(SQL, connection)\n",
    "    \n",
    "    "
   ]
  },
  {
   "cell_type": "code",
   "execution_count": 76,
   "metadata": {
    "ExecuteTime": {
     "end_time": "2017-04-27T22:59:33.190629Z",
     "start_time": "2017-04-27T22:59:33.182164Z"
    }
   },
   "outputs": [],
   "source": []
  },
  {
   "cell_type": "markdown",
   "metadata": {
    "run_control": {
     "frozen": false,
     "read_only": false
    }
   },
   "source": [
    "## Feature extraction functions"
   ]
  },
  {
   "cell_type": "code",
   "execution_count": 80,
   "metadata": {
    "ExecuteTime": {
     "end_time": "2017-04-27T23:00:46.063207Z",
     "start_time": "2017-04-27T23:00:45.909155Z"
    },
    "collapsed": true,
    "run_control": {
     "frozen": false,
     "read_only": false
    }
   },
   "outputs": [],
   "source": [
    "gender_map = {'F': 1, 'M': 0, 'U': 0.5}\n",
    "\n",
    "def gender(patient_frame):\n",
    "    return gender_map[patient_frame.gender[0]]\n",
    "\n",
    "def age(patient_frame):\n",
    "    patient_age = 2016 - patient_frame.year_of_birth[0]\n",
    "    if patient_age > 100: \n",
    "        return 0.5 \n",
    "    else: \n",
    "        return patient_age / 100.\n",
    "\n",
    "def socio_score(patient_frame):\n",
    "    score = patient_frame.disadvantage_score[0]\n",
    "    if isinstance(score, str):\n",
    "        return 1.\n",
    "    if score is None:\n",
    "        return 1.\n",
    "    return float(score) / 1000.\n",
    "\n",
    "def diabetes(patient_frame):\n",
    "    return float(patient_frame.ChronicIllness.str.contains('Diabetes').any())\n",
    "\n",
    "def mean_script_time(patient_frame):\n",
    "    script_week_diff = pd.to_datetime(patient_frame.Prescription_Week).diff()\n",
    "    return script_week_diff[script_week_diff > pd.Timedelta(0)].mean() / pd.Timedelta(days=365*6)\n",
    "\n",
    "def system_codes(patient_frame):\n",
    "    codes = {\n",
    "         'A': 0, # Unknown\n",
    "         'C': 0, # Unknown   \n",
    "         'Z': 0, # Unknown\n",
    "         'N': 0, # NHS Script\n",
    "         'P': 0, # Private Script\n",
    "         'B': 0, # Doctors Bag Script\n",
    "         'T': 0, # Schedule Three Recordable Script\n",
    "         'R': 0, # Repatriation Script\n",
    "         'D': 0, # Dental Script\n",
    "         'E': 0, # Optometrist Script\n",
    "         'U': 0, # Nurse Practitioner Script\n",
    "         'F': 0  # Midwife Script\n",
    "        }\n",
    "\n",
    "    codes.update(patient_frame.SourceSystem_Code.value_counts(normalize=True).to_dict())\n",
    "    return codes\n",
    "\n",
    "def chronic_illness(patient_frame):\n",
    "    chronic_treatments = {\n",
    "     'Anti-Coagulant': 0,\n",
    "     'Chronic Obstructive Pulmonary Disease (COPD)': 0,\n",
    "     'ChronicIllness': 0,\n",
    "     'Depression': 0,\n",
    "     'Diabetes': 0,\n",
    "     'Epilepsy': 0,\n",
    "     'Heart Failure': 0,\n",
    "     'Hypertension': 0,\n",
    "     'Immunology': 0,\n",
    "     'Lipids': 0,\n",
    "     'Osteoporosis': 0,\n",
    "     'Urology': 0}\n",
    "    chronic_treatments.update(patient_frame.ChronicIllness.value_counts(normalize=True).to_dict())\n",
    "    return chronic_treatments"
   ]
  },
  {
   "cell_type": "markdown",
   "metadata": {
    "run_control": {
     "frozen": false,
     "read_only": false
    }
   },
   "source": [
    "## Compute some basic features of the data "
   ]
  },
  {
   "cell_type": "code",
   "execution_count": 82,
   "metadata": {
    "ExecuteTime": {
     "end_time": "2017-04-27T23:01:45.815693Z",
     "start_time": "2017-04-27T23:01:45.797149Z"
    },
    "collapsed": true,
    "run_control": {
     "frozen": false,
     "read_only": false
    }
   },
   "outputs": [],
   "source": [
    "def feature_extract(patient_frame):\n",
    "    \"\"\"\n",
    "    Form a feature dictionary\n",
    "    \"\"\"\n",
    "    \n",
    "    feature_dict = {\n",
    "        'gender': gender(patient_frame), \n",
    "        'age': age(patient_frame), \n",
    "        'socio_score': socio_score(patient_frame),\n",
    "        'mean_script_time': mean_script_time(patient_frame),\n",
    "        'target': patient_frame.Target[0]}\n",
    "    \n",
    "    feature_dict.update(system_codes(patient_frame))\n",
    "    feature_dict.update(chronic_illness(patient_frame)) \n",
    "    \n",
    "    return feature_dict\n",
    "    "
   ]
  },
  {
   "cell_type": "markdown",
   "metadata": {
    "run_control": {
     "frozen": false,
     "read_only": false
    }
   },
   "source": [
    "## Extract features of the data"
   ]
  },
  {
   "cell_type": "markdown",
   "metadata": {
    "run_control": {
     "frozen": false,
     "read_only": false
    }
   },
   "source": [
    "Perform a random sample of patients."
   ]
  },
  {
   "cell_type": "code",
   "execution_count": 85,
   "metadata": {
    "ExecuteTime": {
     "end_time": "2017-04-27T23:12:39.293830Z",
     "start_time": "2017-04-27T23:04:28.111185Z"
    },
    "run_control": {
     "frozen": false,
     "read_only": false
    }
   },
   "outputs": [
    {
     "data": {
      "application/vnd.jupyter.widget-view+json": {
       "model_id": "a5d5250f4e2341a8871b955805834276"
      }
     },
     "metadata": {},
     "output_type": "display_data"
    },
    {
     "name": "stdout",
     "output_type": "stream",
     "text": [
      "\n",
      "\n"
     ]
    }
   ],
   "source": [
    "n = 100000\n",
    "patient_ids = np.random.randint(0, 279201, n)\n",
    "patient_data = []\n",
    "for patient_id in tqdm.tqdm_notebook(patient_ids):\n",
    "    patient_data.append(retrieve_patient_data(conn, patient_id))"
   ]
  },
  {
   "cell_type": "markdown",
   "metadata": {
    "run_control": {
     "frozen": false,
     "read_only": false
    }
   },
   "source": [
    "Extract features into a feature dataframe."
   ]
  },
  {
   "cell_type": "code",
   "execution_count": 86,
   "metadata": {
    "ExecuteTime": {
     "end_time": "2017-04-27T23:21:22.074695Z",
     "start_time": "2017-04-27T23:12:39.295294Z"
    },
    "run_control": {
     "frozen": false,
     "read_only": false
    }
   },
   "outputs": [
    {
     "data": {
      "application/vnd.jupyter.widget-view+json": {
       "model_id": "b726fb606c2048179048e7b64b225dc0"
      }
     },
     "metadata": {},
     "output_type": "display_data"
    },
    {
     "name": "stdout",
     "output_type": "stream",
     "text": [
      "\n"
     ]
    }
   ],
   "source": [
    "features = []\n",
    "for patient in tqdm.tqdm_notebook(patient_data): \n",
    "    if len(patient):\n",
    "        features.append(feature_extract(patient))\n",
    "feature_frame = pd.DataFrame(features)"
   ]
  },
  {
   "cell_type": "markdown",
   "metadata": {
    "run_control": {
     "frozen": false,
     "read_only": false
    }
   },
   "source": [
    "Store the features and ?patient data? to disk."
   ]
  },
  {
   "cell_type": "code",
   "execution_count": 8,
   "metadata": {
    "ExecuteTime": {
     "end_time": "2017-04-26T01:49:19.786124Z",
     "start_time": "2017-04-26T01:49:15.360884Z"
    },
    "collapsed": true,
    "run_control": {
     "frozen": false,
     "read_only": false
    }
   },
   "outputs": [],
   "source": [
    "feature_frame.to_csv('../submissions/features.csv')\n",
    "\n",
    "with open('../submissions/patient_data.pkl', 'wb') as fh:\n",
    "    pickle.dump(patient_data, fh)"
   ]
  },
  {
   "cell_type": "code",
   "execution_count": 6,
   "metadata": {
    "collapsed": true,
    "run_control": {
     "frozen": false,
     "read_only": false
    }
   },
   "outputs": [],
   "source": [
    "# feature_frame = pd.read_csv('../submissions/features.csv')\n",
    "\n",
    "# with open('../submissions/patient_data.pkl', 'rb') as fh:\n",
    "#     patient_data = pickle.load(fh)"
   ]
  },
  {
   "cell_type": "markdown",
   "metadata": {
    "run_control": {
     "frozen": false,
     "read_only": false
    }
   },
   "source": [
    "## Explore the feature we have extracted\n",
    "\n",
    "Note: not sure here - trying out something from scikit learn but it may not be sensible."
   ]
  },
  {
   "cell_type": "code",
   "execution_count": 87,
   "metadata": {
    "ExecuteTime": {
     "end_time": "2017-04-27T23:43:09.360431Z",
     "start_time": "2017-04-27T23:43:09.289456Z"
    },
    "run_control": {
     "frozen": false,
     "read_only": false
    }
   },
   "outputs": [
    {
     "data": {
      "text/html": [
       "<div>\n",
       "<table border=\"1\" class=\"dataframe\">\n",
       "  <thead>\n",
       "    <tr style=\"text-align: right;\">\n",
       "      <th></th>\n",
       "      <th>A</th>\n",
       "      <th>Anti-Coagulant</th>\n",
       "      <th>B</th>\n",
       "      <th>C</th>\n",
       "      <th>Chronic Obstructive Pulmonary Disease (COPD)</th>\n",
       "      <th>ChronicIllness</th>\n",
       "      <th>D</th>\n",
       "      <th>Depression</th>\n",
       "      <th>Diabetes</th>\n",
       "      <th>E</th>\n",
       "      <th>...</th>\n",
       "      <th>P</th>\n",
       "      <th>R</th>\n",
       "      <th>T</th>\n",
       "      <th>U</th>\n",
       "      <th>Urology</th>\n",
       "      <th>Z</th>\n",
       "      <th>age</th>\n",
       "      <th>gender</th>\n",
       "      <th>mean_script_time</th>\n",
       "      <th>socio_score</th>\n",
       "    </tr>\n",
       "    <tr>\n",
       "      <th>target</th>\n",
       "      <th></th>\n",
       "      <th></th>\n",
       "      <th></th>\n",
       "      <th></th>\n",
       "      <th></th>\n",
       "      <th></th>\n",
       "      <th></th>\n",
       "      <th></th>\n",
       "      <th></th>\n",
       "      <th></th>\n",
       "      <th></th>\n",
       "      <th></th>\n",
       "      <th></th>\n",
       "      <th></th>\n",
       "      <th></th>\n",
       "      <th></th>\n",
       "      <th></th>\n",
       "      <th></th>\n",
       "      <th></th>\n",
       "      <th></th>\n",
       "      <th></th>\n",
       "    </tr>\n",
       "  </thead>\n",
       "  <tbody>\n",
       "    <tr>\n",
       "      <th>0</th>\n",
       "      <td>0.062429</td>\n",
       "      <td>0.011291</td>\n",
       "      <td>0</td>\n",
       "      <td>0.014060</td>\n",
       "      <td>0.031034</td>\n",
       "      <td>0</td>\n",
       "      <td>0</td>\n",
       "      <td>0.178124</td>\n",
       "      <td>0.016513</td>\n",
       "      <td>0</td>\n",
       "      <td>...</td>\n",
       "      <td>0</td>\n",
       "      <td>0</td>\n",
       "      <td>0</td>\n",
       "      <td>0</td>\n",
       "      <td>0.007994</td>\n",
       "      <td>0.002717</td>\n",
       "      <td>0.510163</td>\n",
       "      <td>0.579456</td>\n",
       "      <td>0.055946</td>\n",
       "      <td>0.989366</td>\n",
       "    </tr>\n",
       "    <tr>\n",
       "      <th>1</th>\n",
       "      <td>0.068354</td>\n",
       "      <td>0.006958</td>\n",
       "      <td>0</td>\n",
       "      <td>0.018629</td>\n",
       "      <td>0.012792</td>\n",
       "      <td>0</td>\n",
       "      <td>0</td>\n",
       "      <td>0.078509</td>\n",
       "      <td>0.347173</td>\n",
       "      <td>0</td>\n",
       "      <td>...</td>\n",
       "      <td>0</td>\n",
       "      <td>0</td>\n",
       "      <td>0</td>\n",
       "      <td>0</td>\n",
       "      <td>0.005226</td>\n",
       "      <td>0.000377</td>\n",
       "      <td>0.508672</td>\n",
       "      <td>0.493191</td>\n",
       "      <td>0.042682</td>\n",
       "      <td>0.980787</td>\n",
       "    </tr>\n",
       "  </tbody>\n",
       "</table>\n",
       "<p>2 rows × 28 columns</p>\n",
       "</div>"
      ],
      "text/plain": [
       "               A  Anti-Coagulant  B         C  \\\n",
       "target                                          \n",
       "0       0.062429        0.011291  0  0.014060   \n",
       "1       0.068354        0.006958  0  0.018629   \n",
       "\n",
       "        Chronic Obstructive Pulmonary Disease (COPD)  ChronicIllness  D  \\\n",
       "target                                                                    \n",
       "0                                           0.031034               0  0   \n",
       "1                                           0.012792               0  0   \n",
       "\n",
       "        Depression  Diabetes  E     ...       P  R  T  U   Urology         Z  \\\n",
       "target                              ...                                        \n",
       "0         0.178124  0.016513  0     ...       0  0  0  0  0.007994  0.002717   \n",
       "1         0.078509  0.347173  0     ...       0  0  0  0  0.005226  0.000377   \n",
       "\n",
       "             age    gender  mean_script_time  socio_score  \n",
       "target                                                     \n",
       "0       0.510163  0.579456          0.055946     0.989366  \n",
       "1       0.508672  0.493191          0.042682     0.980787  \n",
       "\n",
       "[2 rows x 28 columns]"
      ]
     },
     "execution_count": 87,
     "metadata": {},
     "output_type": "execute_result"
    }
   ],
   "source": [
    "means = feature_frame.groupby('target').mean()\n",
    "means"
   ]
  },
  {
   "cell_type": "markdown",
   "metadata": {
    "run_control": {
     "frozen": false,
     "read_only": false
    }
   },
   "source": [
    "## Try out a set of different classifiers"
   ]
  },
  {
   "cell_type": "markdown",
   "metadata": {
    "run_control": {
     "frozen": false,
     "read_only": false
    }
   },
   "source": [
    "Note: the feature matrix is usually transformed to have zero mean and unit standard deviation."
   ]
  },
  {
   "cell_type": "code",
   "execution_count": 88,
   "metadata": {
    "ExecuteTime": {
     "end_time": "2017-04-27T23:43:16.230490Z",
     "start_time": "2017-04-27T23:43:16.043373Z"
    },
    "collapsed": true,
    "run_control": {
     "frozen": false,
     "read_only": false
    }
   },
   "outputs": [],
   "source": [
    "X = feature_frame.dropna().drop('target', axis=1).values\n",
    "y = feature_frame.dropna().target.values\n",
    "\n",
    "X_transformed = StandardScaler().fit_transform(X)"
   ]
  },
  {
   "cell_type": "markdown",
   "metadata": {
    "run_control": {
     "frozen": false,
     "read_only": false
    }
   },
   "source": [
    "Partition the data into test and train datasets."
   ]
  },
  {
   "cell_type": "code",
   "execution_count": 89,
   "metadata": {
    "ExecuteTime": {
     "end_time": "2017-04-27T23:43:22.247779Z",
     "start_time": "2017-04-27T23:43:22.193226Z"
    },
    "collapsed": true,
    "run_control": {
     "frozen": false,
     "read_only": false
    }
   },
   "outputs": [],
   "source": [
    "X_train, X_test, y_train, y_test = train_test_split(X_transformed, y, test_size=0.5, random_state=0)"
   ]
  },
  {
   "cell_type": "code",
   "execution_count": 90,
   "metadata": {
    "ExecuteTime": {
     "end_time": "2017-04-27T23:49:27.110289Z",
     "start_time": "2017-04-27T23:43:23.169545Z"
    },
    "run_control": {
     "frozen": false,
     "read_only": false
    },
    "scrolled": false
   },
   "outputs": [
    {
     "name": "stdout",
     "output_type": "stream",
     "text": [
      "Classifier: Random Forrest\n",
      "             precision    recall  f1-score   support\n",
      "\n",
      "          0       0.97      0.96      0.97     40961\n",
      "          1       0.84      0.84      0.84      8877\n",
      "\n",
      "avg / total       0.94      0.94      0.94     49838\n",
      "\n",
      "Classifier: Decision Tree\n",
      "             precision    recall  f1-score   support\n",
      "\n",
      "          0       0.95      0.95      0.95     40961\n",
      "          1       0.78      0.79      0.79      8877\n",
      "\n",
      "avg / total       0.92      0.92      0.92     49838\n",
      "\n",
      "Classifier: Adaboost\n",
      "             precision    recall  f1-score   support\n",
      "\n",
      "          0       0.98      0.95      0.96     40961\n",
      "          1       0.78      0.91      0.84      8877\n",
      "\n",
      "avg / total       0.94      0.94      0.94     49838\n",
      "\n",
      "Classifier: Gradient boosted decition tree\n",
      "             precision    recall  f1-score   support\n",
      "\n",
      "          0       0.98      0.95      0.96     40961\n",
      "          1       0.80      0.89      0.84      8877\n",
      "\n",
      "avg / total       0.94      0.94      0.94     49838\n",
      "\n",
      "Classifier: SVM\n",
      "             precision    recall  f1-score   support\n",
      "\n",
      "          0       0.97      0.96      0.96     40961\n",
      "          1       0.81      0.86      0.83      8877\n",
      "\n",
      "avg / total       0.94      0.94      0.94     49838\n",
      "\n"
     ]
    }
   ],
   "source": [
    "classifiers = [\n",
    "    ('Random Forrest', RandomForestClassifier()),\n",
    "    ('Decision Tree', DecisionTreeClassifier()),\n",
    "    ('Adaboost',AdaBoostClassifier() ),\n",
    "    ('Gradient boosted decition tree', xgboost.XGBClassifier()), \n",
    "    ('SVM',SVC(probability=True))]\n",
    "\n",
    "for name, clf in classifiers:\n",
    "    print('Classifier: {}'.format(name))\n",
    "    model = clf.fit(X_train, y_train)\n",
    "    y_true, y_pred = y_test, clf.predict(X_test) \n",
    "    print(classification_report(y_true, y_pred))\n"
   ]
  },
  {
   "cell_type": "markdown",
   "metadata": {
    "run_control": {
     "frozen": false,
     "read_only": false
    }
   },
   "source": [
    "## Form a submission\n",
    "\n",
    "Perform the prediction in 1000 patient \"chunks\" to speed up the processing."
   ]
  },
  {
   "cell_type": "code",
   "execution_count": 97,
   "metadata": {
    "ExecuteTime": {
     "end_time": "2017-04-28T04:11:55.420137Z",
     "start_time": "2017-04-28T04:11:53.637869Z"
    }
   },
   "outputs": [],
   "source": [
    "model = xgboost.XGBClassifier().fit(X, y)"
   ]
  },
  {
   "cell_type": "code",
   "execution_count": 98,
   "metadata": {
    "ExecuteTime": {
     "end_time": "2017-04-28T04:11:56.593098Z",
     "start_time": "2017-04-28T04:11:56.508965Z"
    },
    "collapsed": true,
    "run_control": {
     "frozen": false,
     "read_only": false
    }
   },
   "outputs": [],
   "source": [
    "submission = pd.read_csv('../submissions/diabetes_submission_example.csv')"
   ]
  },
  {
   "cell_type": "code",
   "execution_count": 99,
   "metadata": {
    "ExecuteTime": {
     "end_time": "2017-04-28T04:11:57.710584Z",
     "start_time": "2017-04-28T04:11:57.696473Z"
    },
    "collapsed": true,
    "run_control": {
     "frozen": false,
     "read_only": false
    },
    "scrolled": false
   },
   "outputs": [],
   "source": [
    "chunks = submission.groupby(np.arange(len(submission)) // 1000)"
   ]
  },
  {
   "cell_type": "code",
   "execution_count": 100,
   "metadata": {
    "ExecuteTime": {
     "end_time": "2017-04-28T04:57:00.138028Z",
     "start_time": "2017-04-28T04:12:00.246505Z"
    },
    "run_control": {
     "frozen": false,
     "read_only": false
    }
   },
   "outputs": [
    {
     "data": {
      "application/vnd.jupyter.widget-view+json": {
       "model_id": "32bc327803234591a8fef744d4d17d90"
      }
     },
     "metadata": {},
     "output_type": "display_data"
    },
    {
     "name": "stdout",
     "output_type": "stream",
     "text": [
      "\n"
     ]
    }
   ],
   "source": [
    "for group, frame in tqdm.tqdm_notebook(chunks):\n",
    "    \n",
    "    # Extract the features\n",
    "    data = [feature_extract(retrieve_patient_data(conn, x)) for x in frame.Patient_ID.values]\n",
    "    \n",
    "    # Construct prediction X matrix\n",
    "    features = pd.DataFrame(data)\n",
    "    pred_x = features.drop('target', axis=1).values\n",
    "    pred_x[np.isnan(pred_x)] = 0.0\n",
    "    \n",
    "    # Apply the standard transform prior to fitting. \n",
    "    pred_x = StandardScaler().fit_transform(pred_x)\n",
    "    \n",
    "    # Fit the model\n",
    "    submission.Diabetes[frame.index] = model.predict_proba(pred_x)[:, 0]"
   ]
  },
  {
   "cell_type": "code",
   "execution_count": 96,
   "metadata": {
    "ExecuteTime": {
     "end_time": "2017-04-28T00:45:50.127536Z",
     "start_time": "2017-04-28T00:45:49.452332Z"
    },
    "collapsed": true,
    "run_control": {
     "frozen": false,
     "read_only": false
    }
   },
   "outputs": [],
   "source": [
    "submission.to_csv('../submissions/kaggle_three.csv', index=False)"
   ]
  }
 ],
 "metadata": {
  "hide_input": false,
  "kernelspec": {
   "display_name": "Python 3",
   "language": "python",
   "name": "python3"
  },
  "language_info": {
   "codemirror_mode": {
    "name": "ipython",
    "version": 3
   },
   "file_extension": ".py",
   "mimetype": "text/x-python",
   "name": "python",
   "nbconvert_exporter": "python",
   "pygments_lexer": "ipython3",
   "version": "3.6.1"
  },
  "nav_menu": {},
  "toc": {
   "colors": {
    "hover_highlight": "#DAA520",
    "running_highlight": "#FF0000",
    "selected_highlight": "#FFD700"
   },
   "moveMenuLeft": true,
   "nav_menu": {
    "height": "189px",
    "width": "252px"
   },
   "navigate_menu": true,
   "number_sections": true,
   "sideBar": true,
   "threshold": 4,
   "toc_cell": false,
   "toc_section_display": "block",
   "toc_window_display": false,
   "widenNotebook": false
  }
 },
 "nbformat": 4,
 "nbformat_minor": 2
}
